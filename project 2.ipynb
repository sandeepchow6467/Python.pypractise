{
 "cells": [
  {
   "cell_type": "code",
   "execution_count": 3,
   "id": "3827ff85",
   "metadata": {},
   "outputs": [
    {
     "name": "stdout",
     "output_type": "stream",
     "text": [
      "Welcome to Number guessing game! \n",
      "are you excited! lets go! \n",
      "Type a number: 2\n",
      "make a guess: 2\n",
      "you are above the number \n",
      "make a guess: 1\n",
      "you are above the number \n",
      "make a guess: 0\n",
      "you got it! \n",
      "you got it in 3 guesses\n",
      "Do you wanna play again? yes/no: yes\n",
      "Dont waste time you idiot! \n"
     ]
    }
   ],
   "source": [
    "print(\"Welcome to Number guessing game! \")\n",
    "print(\"are you excited! lets go! \")\n",
    "\n",
    "import random\n",
    "top_of_range = input(\"Type a number: \")\n",
    "\n",
    "if top_of_range.isdigit():\n",
    "    top_of_range = int(top_of_range)\n",
    "    \n",
    "    \n",
    "    if top_of_range <= 0:\n",
    "        print(\"Type a number greater than zero! \")\n",
    "        quit()\n",
    "else:\n",
    "    print(\"please type a number next time! \")\n",
    "    quit()\n",
    "    \n",
    "random_number = random.randint(0, top_of_range)\n",
    "guesses = 0\n",
    "\n",
    "\n",
    "\n",
    "while True:\n",
    "    guesses += 1\n",
    "    user_guess = input(\"make a guess: \")\n",
    "    if user_guess.isdigit():\n",
    "        user_guess = int(user_guess)\n",
    "    else:\n",
    "        print(\"please type a number next time! \")\n",
    "        continue\n",
    "        \n",
    "    if user_guess == random_number:\n",
    "        print(\"you got it! \")\n",
    "        break\n",
    "    elif user_guess > random_number:\n",
    "        print(\"you are above the number \")\n",
    "    else:\n",
    "        print(\"you are below the number \")\n",
    "            \n",
    "print(\"you got it in \" + str(guesses) + \" guesses\")\n",
    "\n",
    "def play_again():\n",
    "    response = input(\"Do you wanna play again? yes/no: \")\n",
    "    \n",
    "    if response == \"yes\":\n",
    "        response.upper()\n",
    "        print(\"Dont waste time you idiot! \")\n",
    "    else:\n",
    "        print(\"Byeeee! \")\n",
    "\n",
    "play_again()"
   ]
  },
  {
   "cell_type": "code",
   "execution_count": null,
   "id": "ae60030a",
   "metadata": {},
   "outputs": [],
   "source": []
  }
 ],
 "metadata": {
  "kernelspec": {
   "display_name": "Python 3 (ipykernel)",
   "language": "python",
   "name": "python3"
  },
  "language_info": {
   "codemirror_mode": {
    "name": "ipython",
    "version": 3
   },
   "file_extension": ".py",
   "mimetype": "text/x-python",
   "name": "python",
   "nbconvert_exporter": "python",
   "pygments_lexer": "ipython3",
   "version": "3.9.7"
  }
 },
 "nbformat": 4,
 "nbformat_minor": 5
}
