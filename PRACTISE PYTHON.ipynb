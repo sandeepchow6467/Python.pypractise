{
 "cells": [
  {
   "cell_type": "code",
   "execution_count": 1,
   "id": "f19a4692",
   "metadata": {},
   "outputs": [
    {
     "ename": "SyntaxError",
     "evalue": "invalid syntax (Temp/ipykernel_24512/3699747512.py, line 1)",
     "output_type": "error",
     "traceback": [
      "\u001b[1;36m  File \u001b[1;32m\"C:\\Users\\SANDEE~1\\AppData\\Local\\Temp/ipykernel_24512/3699747512.py\"\u001b[1;36m, line \u001b[1;32m1\u001b[0m\n\u001b[1;33m    def max [list]:\u001b[0m\n\u001b[1;37m            ^\u001b[0m\n\u001b[1;31mSyntaxError\u001b[0m\u001b[1;31m:\u001b[0m invalid syntax\n"
     ]
    }
   ],
   "source": [
    "def max [list]:"
   ]
  },
  {
   "cell_type": "code",
   "execution_count": null,
   "id": "6bcef776",
   "metadata": {},
   "outputs": [],
   "source": [
    "max = list[0]"
   ]
  },
  {
   "cell_type": "code",
   "execution_count": 3,
   "id": "fcb6768a",
   "metadata": {},
   "outputs": [
    {
     "name": "stdout",
     "output_type": "stream",
     "text": [
      "61\n"
     ]
    }
   ],
   "source": [
    "def sum(list):\n",
    "    sum = 0\n",
    "    for values in list:\n",
    "        sum += values\n",
    "        \n",
    "    return sum\n",
    "\n",
    "list = (5,20,36)\n",
    "print(sum(list))\n",
    "    "
   ]
  },
  {
   "cell_type": "code",
   "execution_count": 9,
   "id": "d2a9a6a6",
   "metadata": {},
   "outputs": [],
   "source": [
    "def sum(list):\n",
    "    for i in list:\n",
    "        print(i)\n",
    "        \n",
    "    \n",
    "\n",
    "list = [10,16,20]\n"
   ]
  },
  {
   "cell_type": "code",
   "execution_count": 10,
   "id": "6cd6eca5",
   "metadata": {},
   "outputs": [
    {
     "name": "stdout",
     "output_type": "stream",
     "text": [
      "5760\n"
     ]
    }
   ],
   "source": [
    "def multiplied(list):\n",
    "    multiplied = 1\n",
    "    for values in list:\n",
    "        multiplied *= values\n",
    "        \n",
    "    return multiplied   \n",
    "list = [16,18,20]\n",
    "print(multiplied(list))"
   ]
  },
  {
   "cell_type": "code",
   "execution_count": 17,
   "id": "7f867e96",
   "metadata": {},
   "outputs": [
    {
     "name": "stdout",
     "output_type": "stream",
     "text": [
      "0.0016666666666666668\n"
     ]
    }
   ],
   "source": [
    "def division(list):\n",
    "    division = 2\n",
    "    for i in list:\n",
    "        division /= i\n",
    "        \n",
    "    return division\n",
    "list = [20,5,12]\n",
    "print(division(list))"
   ]
  },
  {
   "cell_type": "code",
   "execution_count": 41,
   "id": "7f2ee64a",
   "metadata": {},
   "outputs": [
    {
     "name": "stdout",
     "output_type": "stream",
     "text": [
      "peednas\n"
     ]
    }
   ],
   "source": [
    "string = \"sandeep\"[::-1]\n",
    "print(string)"
   ]
  },
  {
   "cell_type": "code",
   "execution_count": 55,
   "id": "bdd585e2",
   "metadata": {},
   "outputs": [
    {
     "name": "stdout",
     "output_type": "stream",
     "text": [
      "85\n"
     ]
    }
   ],
   "source": [
    "def max(list):\n",
    "    max_list = list[0]\n",
    "    for i in range(1,len(list)):\n",
    "        if max_list < list[i]:\n",
    "            max_list = list[i]\n",
    "    return max_list\n",
    "list = [12,25,36,52,85]\n",
    "print(max(list))\n",
    "        "
   ]
  },
  {
   "cell_type": "code",
   "execution_count": null,
   "id": "9c04eecd",
   "metadata": {},
   "outputs": [],
   "source": [
    "#creating a function new game with questions, options, guesses, correct guesses, question num\n",
    "\n",
    "def new_game():\n",
    "    \n",
    "    guesses = []\n",
    "    correct_guesses = 0\n",
    "    question_num = 1\n",
    "    \n",
    "    for key in questions:\n",
    "        print(\"-------------\")\n",
    "        print(key)\n",
    "        \n",
    "        for i in options[question_num - 1]:\n",
    "            print(i)\n",
    "            \n",
    "        guess = input(\"Enter (A,B,C or D): \")\n",
    "        guess = guess.upper()\n",
    "        guesses.append(guess)\n",
    "        \n",
    "        correct_guesses += check_answer(questions.get(key), guess)\n",
    "        question_num += 1\n",
    "        \n",
    "    display_score(correct_guesses, guesses)   \n",
    "        \n",
    "        \n",
    "#code to check answers\n",
    "\n",
    "def check_answer(answer, guess):\n",
    "    \n",
    "    if answer == guess:\n",
    "        print(\"correct! \")\n",
    "        return 1\n",
    "    else:\n",
    "        print(\"incorrect! \")\n",
    "        return 0\n",
    "    \n",
    "def display_score(correct_guesses, guesses):\n",
    "    print(\"----------\")\n",
    "    print(\"Results\")\n",
    "    print(\"----------\")\n",
    "    print(\"Answers: \", end = \" \")\n",
    "    for i in questions:\n",
    "        print(questions.get(i), end = \" \")\n",
    "    print()\n",
    "    \n",
    "    print(\"Guesses: \", end = \" \")\n",
    "    for i in guesses:\n",
    "        print(i, end =  \" \")\n",
    "    print()    \n",
    "\n",
    "    score = int((correct_guesses/len(questions)) * 100)\n",
    "\n",
    "    print(\"your score is: \" + str(score) + \"%\" )\n",
    "                \n",
    "def play_again():\n",
    "                response = input(\"Do you wanna play again? (Y/N) :\")\n",
    "                response = response.upper()\n",
    "                \n",
    "                if response == \"YES\":\n",
    "                    return True\n",
    "                else:\n",
    "                    return False\n",
    "                \n",
    "questions = {\"who created python?\":\"A\", \"what year is python created?\":\"B\", \"what is full form of CPU?\":\"C\"}\n",
    "                \n",
    "                \n",
    "options = [[\"A.Guido Van\", \"B.Elon Musk\", \"C.Bill gates\"], \n",
    "           [\"A.1989\", \"B.1991\", \"C.2000\"],\n",
    "           [\"A.MNU\", \"B.GPU\", \"C.central processing unit\"]]                \n",
    "\n",
    "\n",
    "new_game()\n",
    "\n",
    "while play_again():\n",
    "    new(game)\n",
    "\n",
    "print(\"Byeee\")\n",
    "\n",
    "\n",
    "                \n",
    "                "
   ]
  },
  {
   "cell_type": "code",
   "execution_count": null,
   "id": "420c3754",
   "metadata": {},
   "outputs": [],
   "source": [
    "new_game()"
   ]
  },
  {
   "cell_type": "code",
   "execution_count": null,
   "id": "74c1b6e9",
   "metadata": {},
   "outputs": [],
   "source": []
  }
 ],
 "metadata": {
  "kernelspec": {
   "display_name": "Python 3 (ipykernel)",
   "language": "python",
   "name": "python3"
  },
  "language_info": {
   "codemirror_mode": {
    "name": "ipython",
    "version": 3
   },
   "file_extension": ".py",
   "mimetype": "text/x-python",
   "name": "python",
   "nbconvert_exporter": "python",
   "pygments_lexer": "ipython3",
   "version": "3.9.7"
  }
 },
 "nbformat": 4,
 "nbformat_minor": 5
}
