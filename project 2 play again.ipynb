{
 "cells": [
  {
   "cell_type": "code",
   "execution_count": 16,
   "id": "a24f6a52",
   "metadata": {},
   "outputs": [
    {
     "name": "stdout",
     "output_type": "stream",
     "text": [
      "Welcome to Number guessing game! \n",
      "are you excited! lets go! \n"
     ]
    },
    {
     "ename": "SyntaxError",
     "evalue": "'continue' not properly in loop (Temp/ipykernel_1588/4029474543.py, line 45)",
     "output_type": "error",
     "traceback": [
      "\u001b[1;36m  File \u001b[1;32m\"C:\\Users\\SANDEE~1\\AppData\\Local\\Temp/ipykernel_1588/4029474543.py\"\u001b[1;36m, line \u001b[1;32m45\u001b[0m\n\u001b[1;33m    continue\u001b[0m\n\u001b[1;37m    ^\u001b[0m\n\u001b[1;31mSyntaxError\u001b[0m\u001b[1;31m:\u001b[0m 'continue' not properly in loop\n"
     ]
    }
   ],
   "source": [
    "print(\"Welcome to Number guessing game! \")\n",
    "print(\"are you excited! lets go! \")\n",
    "\n",
    "import random\n",
    "def play(top_of_range, user_guess):\n",
    "    top_of_range = input(\"Type a number: \")\n",
    "\n",
    "    if top_of_range.isdigit():\n",
    "        top_of_range = int(top_of_range)\n",
    "    \n",
    "    \n",
    "        if top_of_range <= 0:\n",
    "            print(\"Type a number greater than zero! \")\n",
    "            quit()\n",
    "    else:\n",
    "        print(\"please type a number next time! \")\n",
    "        quit()\n",
    "    \n",
    "    random_number = random.randint(0, top_of_range)\n",
    "    guesses = 0\n",
    "\n",
    "    while True:\n",
    "        guesses += 1\n",
    "        \n",
    "        user_guess = input(\"make a guess: \")\n",
    "        if user_guess.isdigit():\n",
    "            user_guess = int(user_guess)\n",
    "        else:\n",
    "            print(\"please type a number next time! \")\n",
    "            continue\n",
    "        \n",
    "        if user_guess == random_number:\n",
    "            print(\"you got it! \")\n",
    "            break\n",
    "        elif user_guess > random_number:\n",
    "            print(\"you are above the number \")\n",
    "        else:\n",
    "            print(\"you are below the number \")\n",
    "            \n",
    "            \n",
    "def play_again():\n",
    "    response = input(\"Do you wanna play again? yes/no: \")\n",
    "    if response == \"yes\":\n",
    "        response.upper()\n",
    "        continue\n",
    "    else:\n",
    "        print(\"byeee!\")\n",
    "        break   \n",
    "            \n",
    "print(\"you got it in \" + str(guesses) + \" guesses\")   \n",
    "\n",
    "\n",
    "while play_again():\n",
    "    play()\n",
    "            \n",
    "\n",
    "    \n",
    "    \n",
    "   \n",
    "\n",
    "\n",
    "\n",
    "\n",
    "    "
   ]
  },
  {
   "cell_type": "code",
   "execution_count": null,
   "id": "8e848c4a",
   "metadata": {},
   "outputs": [],
   "source": []
  }
 ],
 "metadata": {
  "kernelspec": {
   "display_name": "Python 3 (ipykernel)",
   "language": "python",
   "name": "python3"
  },
  "language_info": {
   "codemirror_mode": {
    "name": "ipython",
    "version": 3
   },
   "file_extension": ".py",
   "mimetype": "text/x-python",
   "name": "python",
   "nbconvert_exporter": "python",
   "pygments_lexer": "ipython3",
   "version": "3.9.7"
  }
 },
 "nbformat": 4,
 "nbformat_minor": 5
}
